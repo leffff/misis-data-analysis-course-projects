{
 "cells": [
  {
   "cell_type": "markdown",
   "id": "646f8749-5156-4c86-a5fc-9cba90dbbf41",
   "metadata": {},
   "source": [
    "https://oauth.vk.com/authorize?client_id=6121396&scope=1&redirect_uri=https://oauth.vk.com/blank.html&display=page&response_type=token&revoke=1"
   ]
  },
  {
   "cell_type": "code",
   "execution_count": 1,
   "id": "ee7b10aa-c234-48b8-80d0-2b4b001255e4",
   "metadata": {},
   "outputs": [
    {
     "name": "stdout",
     "output_type": "stream",
     "text": [
      "zsh:1: 7.0.0 not found\n",
      "Note: you may need to restart the kernel to use updated packages.\n"
     ]
    }
   ],
   "source": [
    "pip install cython pillow>=7.0.0 numpy>=1.18.1 opencv-python>=4.1.2 torch>=1.9.0 --extra-index-url https://download.pytorch.org/whl/cpu torchvision>=0.10.0 --extra-index-url https://download.pytorch.org/whl/cpu pytest==7.1.3 tqdm==4.64.1 scipy>=1.7.3 matplotlib>=3.4.3 mock==4.0.3"
   ]
  },
  {
   "cell_type": "code",
   "execution_count": 2,
   "id": "902313ad-9a20-44f7-9b40-4bef77c751f3",
   "metadata": {
    "scrolled": true
   },
   "outputs": [
    {
     "name": "stdout",
     "output_type": "stream",
     "text": [
      "Collecting imageai\n",
      "  Downloading imageai-3.0.3-py3-none-any.whl (69 kB)\n",
      "\u001b[2K     \u001b[90m━━━━━━━━━━━━━━━━━━━━━━━━━━━━━━━━━━━━━━━━\u001b[0m \u001b[32m69.8/69.8 kB\u001b[0m \u001b[31m1.2 MB/s\u001b[0m eta \u001b[36m0:00:00\u001b[0ma \u001b[36m0:00:01\u001b[0m\n",
      "\u001b[?25hInstalling collected packages: imageai\n",
      "Successfully installed imageai-3.0.3\n",
      "Note: you may need to restart the kernel to use updated packages.\n"
     ]
    }
   ],
   "source": [
    "pip install imageai --upgrade"
   ]
  },
  {
   "cell_type": "code",
   "execution_count": 1,
   "id": "b9044a1b-14e3-4b35-aa02-ec88b2596273",
   "metadata": {},
   "outputs": [],
   "source": [
    "group_key = 'vk1.a.TeWi79plYP3gMA3B-1YZYQ2UAPXpM_9yz_tkhtYF-aylOGlu5xwqr2TIABetNarvAQNp06nFIZ3zR_WHcvjVQasQqb_77AzttZzynWdfCK5VqG3gLk8qz4wDbsej07I70-WHTnrxHeOm30op9d2e90GA1PovKXgTKMGIP2CXObX5RueDkXmjycupY6K5ZgeUcOYUhleCWIdV0RoPhcy5CA'\n",
    "personal_key = 'vk1.a.GsEBPKSw0GdS6d7SObbhw5VlcVMl0VIb4S0SIMBVXm4KoEl_SZIS4Y7F0qxs-hNLOwwA5GugxEp5BxIqudrMcMM20o92MQNSqUGYQjMi1IGurJn2G6iWYxS1KbGJQSEB-80AbxPgvCP7uzqRwuwsix-a1I8utzYeE8mqJ6aVCQ58eSae-u6_Og8aOD_Dv3b3'"
   ]
  },
  {
   "cell_type": "code",
   "execution_count": 2,
   "id": "f2eeb914-984b-4160-a5ec-9d39596bd701",
   "metadata": {},
   "outputs": [],
   "source": [
    "import vk_api \n",
    "from vk_api.longpoll import VkLongPoll, VkEventType\n",
    "from vk_api.utils import get_random_id\n",
    "\n",
    "import requests, io, cv2\n",
    "import pandas as pd\n",
    "import numpy as np\n",
    "from PIL import Image"
   ]
  },
  {
   "cell_type": "code",
   "execution_count": 3,
   "id": "a4ea4575-199c-4209-9012-3eba42946921",
   "metadata": {},
   "outputs": [],
   "source": [
    "from typing import List, Dict\n",
    "\n",
    "import yake\n",
    "from PIL import Image\n",
    "\n",
    "\n",
    "def get_url_user(person_info: List) -> str:\n",
    "    return person_info[0][\"crop_photo\"]['photo']['sizes'][-1][\"url\"]\n",
    "\n",
    "\n",
    "def get_url_wall(wall_info: Dict) -> str:\n",
    "    return wall_info[\"items\"][0][\"attachments\"][0]['link']['photo'][\"sizes\"][-1][\"url\"]\n",
    "\n",
    "\n",
    "def get_url_post(post_info: List) -> str:\n",
    "    return post_info[0]['attachments'][0]['photo']['sizes'][-1][\"url\"]\n",
    "\n",
    "\n",
    "def get_text_post(post_info: List) -> str:\n",
    "    return post_info[0]['text']\n",
    "\n",
    "\n",
    "def get_text_wall(wall_info: Dict) -> str:\n",
    "    return wall_info[\"items\"][0]['text']\n",
    "\n",
    "\n",
    "def get_np_image_from_url(url: str) -> np.ndarray:\n",
    "    response = requests.get(url)\n",
    "    bytes_im = io.BytesIO(response.content)\n",
    "    cv_im = np.array(Image.open(bytes_im))\n",
    "\n",
    "    return cv_im\n",
    "\n",
    "\n",
    "def save_np_image(np_image: np.ndarray, save_path: str = \"image.jpg\") -> None:\n",
    "    im = Image.fromarray(np_image)\n",
    "    im.save(save_path)    \n",
    "\n",
    "\n",
    "def send_image(user_id: int, path_to_image: str = \"image.jpg\"):\n",
    "    photo = upload.photo_messages('image.jpg')\n",
    "    owner_id = photo[0]['owner_id']\n",
    "    photo_id = photo[0]['id']\n",
    "    access_key = photo[0]['access_key']\n",
    "    attachment = f'photo{owner_id}_{photo_id}_{access_key}'\n",
    "    vk.messages.send(                \n",
    "        user_id=user_id,\n",
    "        random_id=get_random_id(),\n",
    "        attachment=attachment,\n",
    "        keyboard=_get_settings_keyboard()\n",
    "    )\n",
    "\n",
    "\n",
    "def define_action(event) -> int:\n",
    "    for i in range(len(comands)):\n",
    "        if event.text.startswith(comands[i]):\n",
    "            return i\n",
    "\n",
    "    return -1"
   ]
  },
  {
   "cell_type": "code",
   "execution_count": 4,
   "id": "ae2c48ec-1c3e-4b53-ab30-a8787c36d5a7",
   "metadata": {},
   "outputs": [],
   "source": [
    "class KeyWordExtractor():\n",
    "    def __init__(self, kw_extractor = yake.KeywordExtractor(), language: str = \"ru\", max_ngram_size: int = 3, deduplication_threshold: float = 0.9, numOfKeywords: int = 20):\n",
    "        self.kw_extractor = kw_extractor\n",
    "        self.language = language\n",
    "        self.max_ngram_size = max_ngram_size\n",
    "        self.deduplication_threshold = deduplication_threshold\n",
    "        self.numOfKeywords = numOfKeywords\n",
    "\n",
    "    def extract_keywords(self, text: str = \"\") -> str:\n",
    "        custom_kw_extractor = yake.KeywordExtractor(lan=self.language, n=self.max_ngram_size, dedupLim=self.deduplication_threshold, top=self.numOfKeywords, features=None)\n",
    "        return  \"; \".join([kw[0] for kw in custom_kw_extractor.extract_keywords(text)])\n",
    "\n",
    "\n",
    "class MyFancyDetector:\n",
    "    def __init__(self, model: str = \"yolov3.pt\"):\n",
    "        self.detector = ObjectDetection()\n",
    "        self.detector.setModelTypeAsYOLOv3()\n",
    "        self.detector.setModelPath(model)\n",
    "        self.detector.loadModel()\n",
    "\n",
    "    def detect(self, np_image) -> None:\n",
    "        processed_image, detections, extracted_objects = self.detector.detectObjectsFromImage(\n",
    "            input_image=np_image,\n",
    "            output_type=\"array\",\n",
    "            extract_detected_objects=True, \n",
    "            minimum_percentage_probability=30)\n",
    "\n",
    "        save_np_image(processed_image)"
   ]
  },
  {
   "cell_type": "code",
   "execution_count": 5,
   "id": "10acf847-a974-41db-8932-00eb250b1d0b",
   "metadata": {},
   "outputs": [],
   "source": [
    "from imageai.Detection import ObjectDetection\n",
    "\n",
    "detector = MyFancyDetector()\n",
    "keyword_extractor = KeyWordExtractor()"
   ]
  },
  {
   "cell_type": "code",
   "execution_count": 6,
   "id": "5d59f123-99c7-489c-b766-5246b634922f",
   "metadata": {},
   "outputs": [],
   "source": [
    "vk_session = vk_api.VkApi(token = group_key)\n",
    "upload = vk_api.VkUpload(vk_session)\n",
    "longpoll = VkLongPoll(vk_session)\n",
    "vk = vk_session.get_api()\n",
    "\n",
    "vk_session_personal = vk_api.VkApi(token=personal_key)\n",
    "personal_vk = vk_session_personal.get_api()"
   ]
  },
  {
   "cell_type": "code",
   "execution_count": 7,
   "id": "cdf927e1-178e-476d-a6a7-eb8890dd4184",
   "metadata": {},
   "outputs": [],
   "source": [
    "from vk_api.keyboard import VkKeyboard, VkKeyboardColor\n",
    "\n",
    "comands = [\n",
    "        'Анализ аватарки',\n",
    "        'Анализ последней картинки профиля',\n",
    "        'Анализ последнего текста профиля',\n",
    "        'Анализ изображения из поста',\n",
    "        'Анализ текста из поста',\n",
    "]\n",
    "\n",
    "\n",
    "def _get_settings_keyboard() -> str:\n",
    "        keyboard = VkKeyboard(one_time=True)\n",
    "        for comand in comands:\n",
    "            keyboard.add_button(comand, color=VkKeyboardColor.SECONDARY)\n",
    "            keyboard.add_line()\n",
    "\n",
    "        keyboard.add_button(\"Готово\", color=VkKeyboardColor.PRIMARY)\n",
    "        return keyboard.get_keyboard()"
   ]
  },
  {
   "cell_type": "code",
   "execution_count": 8,
   "id": "04857eb2-aff8-4005-9701-8358edfbc073",
   "metadata": {},
   "outputs": [],
   "source": [
    "import logging\n",
    "from logging import FileHandler, Formatter\n",
    "import sys\n",
    "\n",
    "\n",
    "logging.getLogger(\"requests\").setLevel(logging.WARNING)\n",
    "logging.getLogger(\"urllib3\").setLevel(logging.WARNING)\n",
    "logging.getLogger(\"urllib3\").propagate = False\n",
    "\n",
    "logger = logging.getLogger()\n",
    "logger.setLevel(logging.DEBUG)\n",
    "\n",
    "pd.DataFrame({\"time\": [], \"log_type\": [], \"ation_type\": [], \"user_id\": []}).to_csv(\"logs.tsv\", sep=\"\\t\", index=False)\n",
    "\n",
    "handler = FileHandler(filename=\"logs.tsv\")\n",
    "handler.setFormatter(Formatter(fmt='%(asctime)s\\t%(levelname)s\\t%(message)s'))\n",
    "logger.addHandler(handler)"
   ]
  },
  {
   "cell_type": "code",
   "execution_count": 9,
   "id": "fe3f6713-054e-4ee5-9285-58ac7a10118b",
   "metadata": {},
   "outputs": [],
   "source": [
    "class Bot:\n",
    "    def __init__(self, longpoll, vk, personal_vk, detector, keyword_extractor):\n",
    "        self.longpoll = longpoll\n",
    "        self.vk = vk\n",
    "        self.personal_vk = personal_vk\n",
    "        self.detector = detector \n",
    "        self.keyword_extractor = keyword_extractor\n",
    "\n",
    "        self.events = []\n",
    "\n",
    "    def __get_uid(self, event):\n",
    "        return int(event.text)\n",
    "\n",
    "    def __get_post_id(self, event):\n",
    "        return event.text\n",
    "\n",
    "    def __analyze_user_avatar(self, event): \n",
    "        id = self.__get_uid(event)\n",
    "        \n",
    "        person_info = self.vk.users.get(user_id=id, fields='crop_photo')\n",
    "        url = get_url_user(person_info)\n",
    "        np_image = get_np_image_from_url(url)\n",
    "        detector.detect(np_image)\n",
    "        send_image(event.user_id)\n",
    "\n",
    "    def __analyze_user_last_image(self, event):\n",
    "        id = self.__get_uid(event)\n",
    "        \n",
    "        wall = self.personal_vk.wall.get(owner_id=id)\n",
    "        url = get_url_wall(wall)\n",
    "        np_image = get_np_image_from_url(url)\n",
    "        detector.detect(np_image)\n",
    "        send_image(event.user_id)\n",
    "\n",
    "    def __analyze_user_last_text(self, event):\n",
    "        id = self.__get_uid(event)\n",
    "\n",
    "        wall = self.personal_vk.wall.get(owner_id=id)\n",
    "\n",
    "        text = get_text_wall(wall)\n",
    "        keywords = keyword_extractor.extract_keywords(text)\n",
    "        self.vk.messages.send(                \n",
    "            user_id=event.user_id,\n",
    "            random_id=get_random_id(),\n",
    "            message=keywords,\n",
    "            keyboard=_get_settings_keyboard()\n",
    "        )\n",
    "\n",
    "    def __analyze_post_image(self, event):\n",
    "        post = self.__get_post_id(event)\n",
    "\n",
    "        post = self.personal_vk.wall.getById(\n",
    "            posts=post\n",
    "        )\n",
    "\n",
    "        url = get_url_post(post)\n",
    "        np_image = get_np_image_from_url(url)\n",
    "        detector.detect(np_image)\n",
    "        send_image(event.user_id)\n",
    "\n",
    "    def __analyze_post_text(self, event):\n",
    "        post = self.__get_post_id(event)\n",
    "        \n",
    "        post = self.personal_vk.wall.getById(\n",
    "            posts=post\n",
    "        )\n",
    "        \n",
    "        text = get_text_post(post)\n",
    "        keywords = keyword_extractor.extract_keywords(text)\n",
    "        self.vk.messages.send(                \n",
    "            user_id=event.user_id,\n",
    "            random_id=get_random_id(),\n",
    "            message=keywords,\n",
    "            keyboard=_get_settings_keyboard()\n",
    "        )\n",
    "\n",
    "    def __request_id(self, event):\n",
    "            self.vk.messages.send(                \n",
    "                    user_id=event.user_id,\n",
    "                    random_id=get_random_id(),\n",
    "                    message=f\"Предоставьте интересующий id\",\n",
    "                    keyboard=_get_settings_keyboard(),\n",
    "                )\n",
    "\n",
    "    def __unknown_command(self, event):\n",
    "        self.vk.messages.send(                \n",
    "                        user_id=event.user_id,\n",
    "                        random_id=get_random_id(),\n",
    "                        message=f\"unknown command {event.text}\",\n",
    "                        keyboard=_get_settings_keyboard(),\n",
    "                    )\n",
    "\n",
    "    def __ask_for_id(self, event):\n",
    "        self.vk.messages.send(                \n",
    "                user_id=event.user_id,\n",
    "                random_id=get_random_id(),\n",
    "                message=f\"Предоставьте интересующий id\",\n",
    "                keyboard=_get_settings_keyboard(),\n",
    "            )\n",
    "\n",
    "    def __report_error_in_id(self, event):\n",
    "        self.vk.messages.send(                \n",
    "                user_id=event.user_id,\n",
    "                random_id=get_random_id(),\n",
    "                message=f\"Данного id не существует\",\n",
    "                keyboard=_get_settings_keyboard(),\n",
    "            )\n",
    "        \n",
    "    def start(self) -> None:\n",
    "        for event in self.longpoll.listen():\n",
    "            if event.type == VkEventType.MESSAGE_NEW and event.to_me:\n",
    "\n",
    "                action_type = define_action(event)\n",
    "                self.events.append(action_type)\n",
    "                \n",
    "                if len(self.events) > 1:\n",
    "                    action_type = self.events[-2]\n",
    "\n",
    "                    logger.info(f'{action_type + 1}\\t{event.user_id}')\n",
    "\n",
    "                    if action_type == 0:\n",
    "                        try:\n",
    "                            self.__analyze_user_avatar(event)\n",
    "                        except: \n",
    "                            self.__report_error_in_id(event)\n",
    "                            logger.error(f'6\\t{event.user_id}')\n",
    "                            \n",
    "                    elif action_type == 1:\n",
    "                        try:\n",
    "                            self.__analyze_user_last_image(event)\n",
    "                        except: \n",
    "                            self.__report_error_in_id(event)\n",
    "                            logger.error(f'6\\t{event.user_id}')\n",
    "                                        \n",
    "                    elif action_type == 2:\n",
    "                        try:\n",
    "                            self.__analyze_user_last_text(event)\n",
    "                        except: \n",
    "                            self.__report_error_in_id(event)\n",
    "                            logger.error(f'6\\t{event.user_id}')\n",
    "                                        \n",
    "                    elif action_type == 3:\n",
    "                        try:\n",
    "                            self.__analyze_post_image(event)\n",
    "                        except: \n",
    "                            self.__report_error_in_id(event)\n",
    "                            logger.error(f'6\\t{event.user_id}')\n",
    "                                                    \n",
    "                    elif action_type == 4:\n",
    "                        try:\n",
    "                            self.__analyze_post_text(event)\n",
    "                        except: \n",
    "                            self.__report_error_in_id(event)\n",
    "                            logger.error(f'6\\t{event.user_id}')\n",
    "                    else: \n",
    "                        self.__unknown_command(event)\n",
    "\n",
    "                    self.events.clear()\n",
    "                    logger.info(f'{0}\\t{event.user_id}')\n",
    "\n",
    "                    \n",
    "                else: \n",
    "                    self.__ask_for_id(event)"
   ]
  },
  {
   "cell_type": "code",
   "execution_count": 10,
   "id": "40a8e4ab-eb3d-4614-b169-7ac06ff9699c",
   "metadata": {},
   "outputs": [],
   "source": [
    "bot = Bot(longpoll, vk, personal_vk, detector, keyword_extractor)"
   ]
  },
  {
   "cell_type": "code",
   "execution_count": 11,
   "id": "0d363840-916f-42cf-971e-92f28ceb4dcd",
   "metadata": {
    "scrolled": true
   },
   "outputs": [
    {
     "name": "stderr",
     "output_type": "stream",
     "text": [
      "/var/folders/l3/l0vfq_n54s9d8739l34r9qv00000gn/T/ipykernel_20232/2505623948.py:126: ResourceWarning: unclosed <socket.socket fd=86, family=AddressFamily.AF_INET, type=SocketKind.SOCK_STREAM, proto=6, laddr=('192.168.0.101', 53692)>\n",
      "  logger.error(f'5\\t{event.user_id}')\n",
      "ResourceWarning: Enable tracemalloc to get the object allocation traceback\n",
      "\n",
      "KeyboardInterrupt\n",
      "\n"
     ]
    }
   ],
   "source": [
    "bot.start()"
   ]
  },
  {
   "cell_type": "markdown",
   "id": "c6e097f0-ebf7-44df-936f-c9046b301eb7",
   "metadata": {},
   "source": [
    "# Проанализируем логи"
   ]
  },
  {
   "cell_type": "code",
   "execution_count": 6,
   "id": "c031a50b-35f2-4849-be41-23de660b7b98",
   "metadata": {},
   "outputs": [
    {
     "data": {
      "text/html": [
       "<div>\n",
       "<style scoped>\n",
       "    .dataframe tbody tr th:only-of-type {\n",
       "        vertical-align: middle;\n",
       "    }\n",
       "\n",
       "    .dataframe tbody tr th {\n",
       "        vertical-align: top;\n",
       "    }\n",
       "\n",
       "    .dataframe thead th {\n",
       "        text-align: right;\n",
       "    }\n",
       "</style>\n",
       "<table border=\"1\" class=\"dataframe\">\n",
       "  <thead>\n",
       "    <tr style=\"text-align: right;\">\n",
       "      <th></th>\n",
       "      <th>time</th>\n",
       "      <th>log_type</th>\n",
       "      <th>ation_type</th>\n",
       "      <th>user_id</th>\n",
       "      <th>case</th>\n",
       "    </tr>\n",
       "  </thead>\n",
       "  <tbody>\n",
       "    <tr>\n",
       "      <th>0</th>\n",
       "      <td>2023-10-04 23:52:34,867</td>\n",
       "      <td>INFO</td>\n",
       "      <td>1</td>\n",
       "      <td>428900901</td>\n",
       "      <td>0</td>\n",
       "    </tr>\n",
       "    <tr>\n",
       "      <th>1</th>\n",
       "      <td>2023-10-04 23:52:36,732</td>\n",
       "      <td>INFO</td>\n",
       "      <td>0</td>\n",
       "      <td>428900901</td>\n",
       "      <td>1</td>\n",
       "    </tr>\n",
       "    <tr>\n",
       "      <th>2</th>\n",
       "      <td>2023-10-04 23:52:39,693</td>\n",
       "      <td>INFO</td>\n",
       "      <td>2</td>\n",
       "      <td>428900901</td>\n",
       "      <td>2</td>\n",
       "    </tr>\n",
       "    <tr>\n",
       "      <th>3</th>\n",
       "      <td>2023-10-04 23:52:41,532</td>\n",
       "      <td>INFO</td>\n",
       "      <td>0</td>\n",
       "      <td>428900901</td>\n",
       "      <td>3</td>\n",
       "    </tr>\n",
       "    <tr>\n",
       "      <th>4</th>\n",
       "      <td>2023-10-04 23:52:44,463</td>\n",
       "      <td>INFO</td>\n",
       "      <td>3</td>\n",
       "      <td>428900901</td>\n",
       "      <td>4</td>\n",
       "    </tr>\n",
       "  </tbody>\n",
       "</table>\n",
       "</div>"
      ],
      "text/plain": [
       "                      time log_type  ation_type    user_id  case\n",
       "0  2023-10-04 23:52:34,867     INFO           1  428900901     0\n",
       "1  2023-10-04 23:52:36,732     INFO           0  428900901     1\n",
       "2  2023-10-04 23:52:39,693     INFO           2  428900901     2\n",
       "3  2023-10-04 23:52:41,532     INFO           0  428900901     3\n",
       "4  2023-10-04 23:52:44,463     INFO           3  428900901     4"
      ]
     },
     "execution_count": 6,
     "metadata": {},
     "output_type": "execute_result"
    }
   ],
   "source": [
    "import pandas as pd\n",
    "import numpy as np\n",
    "\n",
    "data = pd.read_csv(\"logs.tsv\", delimiter=\"\\t\").head()\n",
    "data[\"case\"] = data.index\n",
    "data"
   ]
  },
  {
   "cell_type": "code",
   "execution_count": 7,
   "id": "f6174590-446c-4a7f-aea9-731050e6b1ae",
   "metadata": {},
   "outputs": [],
   "source": [
    "import matplotlib.pyplot as plt\n",
    "import networkx as nx"
   ]
  },
  {
   "cell_type": "code",
   "execution_count": 8,
   "id": "b6b51173-1cdd-4e83-bebf-314766b260fa",
   "metadata": {},
   "outputs": [],
   "source": [
    "G = nx.digraph.DiGraph()\n",
    "G.add_nodes_from(data.ation_type.unique().tolist())\n",
    "G.add_edges_from([(data.ation_type[i], data.ation_type[i + 1]) for i in range(len(data.ation_type) - 1)])"
   ]
  },
  {
   "cell_type": "code",
   "execution_count": 12,
   "id": "477bf77e-34d5-4c06-85db-f0b6ebcf67af",
   "metadata": {},
   "outputs": [
    {
     "data": {
      "text/plain": [
       "{(1, 0): Text(-0.3319346756682209, 0.1599593601359222, 'INFO'),\n",
       " (0, 2): Text(-0.1480848445027911, -0.2742236235253429, 'INFO'),\n",
       " (2, 0): Text(-0.1480848445027911, -0.2742236235253429, 'INFO'),\n",
       " (0, 3): Text(0.5199804798289879, 0.106360190865265, 'INFO')}"
      ]
     },
     "execution_count": 12,
     "metadata": {},
     "output_type": "execute_result"
    },
    {
     "data": {
      "image/png": "[encoded data removed]",
      "text/plain": [
       "<Figure size 640x480 with 1 Axes>"
      ]
     },
     "metadata": {},
     "output_type": "display_data"
    }
   ],
   "source": [
    "nx.draw(G,  node_color=data.ation_type.unique().tolist(), with_labels = True)\n",
    "\n",
    "pos = nx.spring_layout(G)\n",
    "\n",
    "nx.draw_networkx_edge_labels(\n",
    "    G, \n",
    "    pos,\n",
    "    edge_labels={\n",
    "        (data.ation_type[i], data.ation_type[i + 1]): data.log_type[i] for i in range(len(data.ation_type) - 1)\n",
    "    },\n",
    "    font_color='red'\n",
    ")"
   ]
  },
  {
   "cell_type": "code",
   "execution_count": null,
   "id": "d13322b2-59c3-4ced-bff1-449236b98b96",
   "metadata": {},
   "outputs": [],
   "source": []
  }
 ],
 "metadata": {
  "kernelspec": {
   "display_name": "Python 3 (ipykernel)",
   "language": "python",
   "name": "python3"
  },
  "language_info": {
   "codemirror_mode": {
    "name": "ipython",
    "version": 3
   },
   "file_extension": ".py",
   "mimetype": "text/x-python",
   "name": "python",
   "nbconvert_exporter": "python",
   "pygments_lexer": "ipython3",
   "version": "3.9.11"
  }
 },
 "nbformat": 4,
 "nbformat_minor": 5
}
