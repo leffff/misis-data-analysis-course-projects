{
 "cells": [
  {
   "cell_type": "code",
   "execution_count": 1,
   "id": "ba971c38-0b2c-4ff4-813a-f44672546bc1",
   "metadata": {
    "scrolled": true
   },
   "outputs": [
    {
     "name": "stdout",
     "output_type": "stream",
     "text": [
      "Collecting pyTelegramBotAPI\n",
      "  Downloading pyTelegramBotAPI-4.14.0.tar.gz (243 kB)\n",
      "\u001b[2K     \u001b[90m━━━━━━━━━━━━━━━━━━━━━━━━━━━━━━━━━━━━━\u001b[0m \u001b[32m243.1/243.1 kB\u001b[0m \u001b[31m683.6 kB/s\u001b[0m eta \u001b[36m0:00:00\u001b[0ma \u001b[36m0:00:01\u001b[0m\n",
      "\u001b[?25h  Preparing metadata (setup.py) ... \u001b[?25ldone\n",
      "\u001b[?25hRequirement already satisfied: requests in /Users/user/PycharmProjects/university-data-analysis/venv/lib/python3.9/site-packages (from pyTelegramBotAPI) (2.31.0)\n",
      "Requirement already satisfied: charset-normalizer<4,>=2 in /Users/user/PycharmProjects/university-data-analysis/venv/lib/python3.9/site-packages (from requests->pyTelegramBotAPI) (3.2.0)\n",
      "Requirement already satisfied: idna<4,>=2.5 in /Users/user/PycharmProjects/university-data-analysis/venv/lib/python3.9/site-packages (from requests->pyTelegramBotAPI) (3.4)\n",
      "Requirement already satisfied: urllib3<3,>=1.21.1 in /Users/user/PycharmProjects/university-data-analysis/venv/lib/python3.9/site-packages (from requests->pyTelegramBotAPI) (1.26.16)\n",
      "Requirement already satisfied: certifi>=2017.4.17 in /Users/user/PycharmProjects/university-data-analysis/venv/lib/python3.9/site-packages (from requests->pyTelegramBotAPI) (2023.7.22)\n",
      "Building wheels for collected packages: pyTelegramBotAPI\n",
      "  Building wheel for pyTelegramBotAPI (setup.py) ... \u001b[?25ldone\n",
      "\u001b[?25h  Created wheel for pyTelegramBotAPI: filename=pyTelegramBotAPI-4.14.0-py3-none-any.whl size=215251 sha256=510df884c54d765c329f0989f46f317c5b4f653457730c179bebbacfa90aef8f\n",
      "  Stored in directory: /Users/user/Library/Caches/pip/wheels/f0/ae/f9/dfb61e8eab750a5cffaba33a8d1570c6ad0b8bacfd029d3261\n",
      "Successfully built pyTelegramBotAPI\n",
      "Installing collected packages: pyTelegramBotAPI\n",
      "Successfully installed pyTelegramBotAPI-4.14.0\n",
      "\n",
      "\u001b[1m[\u001b[0m\u001b[34;49mnotice\u001b[0m\u001b[1;39;49m]\u001b[0m\u001b[39;49m A new release of pip is available: \u001b[0m\u001b[31;49m23.2.1\u001b[0m\u001b[39;49m -> \u001b[0m\u001b[32;49m23.3\u001b[0m\n",
      "\u001b[1m[\u001b[0m\u001b[34;49mnotice\u001b[0m\u001b[1;39;49m]\u001b[0m\u001b[39;49m To update, run: \u001b[0m\u001b[32;49mpip install --upgrade pip\u001b[0m\n"
     ]
    }
   ],
   "source": [
    "!pip install pyTelegramBotAPI"
   ]
  },
  {
   "cell_type": "markdown",
   "id": "836c9b6f-97ea-42dc-8018-2cd4fd9fdc1d",
   "metadata": {},
   "source": [
    "Бот-книга рецептов:</br>\n",
    "•  Кнопки: \"Рецепт дня\", \"Вегетарианский рецепт\", \"Поиск рецепта\".</br>\n",
    "•  Функции: Предоставляет различные рецепты.</br>"
   ]
  },
  {
   "cell_type": "code",
   "execution_count": null,
   "id": "b988e9f1-326f-430b-a0af-ec51dbd874ec",
   "metadata": {},
   "outputs": [],
   "source": [
    "import telebot\n",
    "from telebot import types\n",
    "import requests\n",
    "import math\n",
    "\n",
    "import datetime\n",
    "\n",
    "bot = telebot.TeleBot(token)\n",
    "\n",
    "\n",
    "@bot.message_handler(commands=['start'])\n",
    "def send_keyboard(call, text=\"Привет, чем я могу тебе помочь?\"):\n",
    "    keyboard = types.ReplyKeyboardMarkup(row_width=2)\n",
    "    itembtn1 = types.KeyboardButton('Погодку покажи')\n",
    "    keyboard.add(itembtn1)\n",
    "\n",
    "    msg = bot.send_message(\n",
    "        call.chat.id,\n",
    "        text=text, \n",
    "        reply_markup=keyboard\n",
    "    )\n",
    "\n",
    "    bot.register_next_step_handler(msg, callback_worker)\n",
    "\n",
    "\n",
    "@bot.message_handler(content_types=['text'])\n",
    "def handle_docs_audio(message):\n",
    "    send_keyboard(message, text=\"Я не понимаю :-( Выберите один из пунктов меню:\")\n",
    "\n",
    "\n",
    "def callback_worker(call):\n",
    "    if call.text == \"Погодку покажи\":\n",
    "        msg = bot.send_message(call.chat.id,\n",
    "                               text='Сейчас такая погода!')\n",
    "        get_wheather(msg)\n",
    "\n",
    "\n",
    "bot.polling(none_stop=True)"
   ]
  },
  {
   "cell_type": "code",
   "execution_count": null,
   "id": "9aedf2d2-5940-4cea-92dc-2a39902f7350",
   "metadata": {},
   "outputs": [],
   "source": []
  }
 ],
 "metadata": {
  "kernelspec": {
   "display_name": "Python 3 (ipykernel)",
   "language": "python",
   "name": "python3"
  },
  "language_info": {
   "codemirror_mode": {
    "name": "ipython",
    "version": 3
   },
   "file_extension": ".py",
   "mimetype": "text/x-python",
   "name": "python",
   "nbconvert_exporter": "python",
   "pygments_lexer": "ipython3",
   "version": "3.9.11"
  }
 },
 "nbformat": 4,
 "nbformat_minor": 5
}
